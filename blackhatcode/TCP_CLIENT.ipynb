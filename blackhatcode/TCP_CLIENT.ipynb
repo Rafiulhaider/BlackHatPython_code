{
 "cells": [
  {
   "cell_type": "markdown",
   "metadata": {},
   "source": [
    "THIS IS A NOTEBOOK FOR BLACK HAT PYTHON:\n"
   ]
  },
  {
   "cell_type": "markdown",
   "metadata": {},
   "source": [
    "Black Hat Python is a book by Justin Seitz that delves into the darker aspects of Python programming, focusing on hacking techniques and penetration testing. It teaches readers how to write tools for network sniffing, packet manipulation, creating trojans, and more. The book is geared towards those interested in cybersecurity and ethical hacking, providing practical examples and code snippets to illustrate concepts\n"
   ]
  },
  {
   "cell_type": "code",
   "execution_count": null,
   "metadata": {},
   "outputs": [],
   "source": [
    "import socket as sc;\n",
    "\n",
    "target_host = \"www.google.com\"\n",
    "target_port = 80\n",
    "\n",
    "client = sc.socket(sc.AF_INET , sc.SOCK_STREAM)\n",
    "client.connect((target_host, target_port))\n",
    "\n",
    "client.send(b\"GET / HTTP/1.1\\r\\nHost: google.com\\r\\n\\r\\n\");\n",
    "\n",
    "response = client.recv(4096);\n",
    "\n",
    "print(response)\n",
    "client.close()"
   ]
  },
  {
   "cell_type": "markdown",
   "metadata": {},
   "source": []
  }
 ],
 "metadata": {
  "kernelspec": {
   "display_name": "Python 3",
   "language": "python",
   "name": "python3"
  },
  "language_info": {
   "codemirror_mode": {
    "name": "ipython",
    "version": 3
   },
   "file_extension": ".py",
   "mimetype": "text/x-python",
   "name": "python",
   "nbconvert_exporter": "python",
   "pygments_lexer": "ipython3",
   "version": "3.12.7"
  }
 },
 "nbformat": 4,
 "nbformat_minor": 2
}
